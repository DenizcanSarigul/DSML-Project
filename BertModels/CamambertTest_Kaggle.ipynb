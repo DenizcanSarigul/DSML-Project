{
 "cells": [
  {
   "cell_type": "code",
   "execution_count": 1,
   "id": "b630311a",
   "metadata": {
    "execution": {
     "iopub.execute_input": "2023-12-08T10:24:58.623969Z",
     "iopub.status.busy": "2023-12-08T10:24:58.623693Z",
     "iopub.status.idle": "2023-12-08T10:25:36.295784Z",
     "shell.execute_reply": "2023-12-08T10:25:36.294497Z"
    },
    "id": "kH4w40nyUchw",
    "papermill": {
     "duration": 37.681664,
     "end_time": "2023-12-08T10:25:36.298277",
     "exception": false,
     "start_time": "2023-12-08T10:24:58.616613",
     "status": "completed"
    },
    "tags": []
   },
   "outputs": [],
   "source": [
    "%%capture\n",
    "!pip install transformers[torch]\n",
    "!pip install kaggle\n",
    "!mkdir ~/.kaggle\n",
    "!cp /content/drive/MyDrive/kaggle.json ~/.kaggle/kaggle.json\n",
    "!pip install --upgrade -q wandb\n",
    "#!python -m spacy download fr_core_news_sm  #download the french model for spacy when cleaning the data"
   ]
  },
  {
   "cell_type": "code",
   "execution_count": 2,
   "id": "81475b64",
   "metadata": {
    "execution": {
     "iopub.execute_input": "2023-12-08T10:25:36.311667Z",
     "iopub.status.busy": "2023-12-08T10:25:36.310838Z",
     "iopub.status.idle": "2023-12-08T10:25:42.235016Z",
     "shell.execute_reply": "2023-12-08T10:25:42.234243Z"
    },
    "id": "GlaX6IyFUj3l",
    "papermill": {
     "duration": 5.933145,
     "end_time": "2023-12-08T10:25:42.237364",
     "exception": false,
     "start_time": "2023-12-08T10:25:36.304219",
     "status": "completed"
    },
    "tags": []
   },
   "outputs": [],
   "source": [
    "%%capture\n",
    "import pandas as pd\n",
    "import numpy as np\n",
    "from transformers import AutoModelForSequenceClassification\n",
    "from transformers import AutoTokenizer\n",
    "import torch"
   ]
  },
  {
   "cell_type": "code",
   "execution_count": 3,
   "id": "c26f780a",
   "metadata": {
    "execution": {
     "iopub.execute_input": "2023-12-08T10:25:42.250018Z",
     "iopub.status.busy": "2023-12-08T10:25:42.249622Z",
     "iopub.status.idle": "2023-12-08T10:25:50.111785Z",
     "shell.execute_reply": "2023-12-08T10:25:50.110841Z"
    },
    "id": "eYJacS0KVIjT",
    "papermill": {
     "duration": 7.870905,
     "end_time": "2023-12-08T10:25:50.114086",
     "exception": false,
     "start_time": "2023-12-08T10:25:42.243181",
     "status": "completed"
    },
    "tags": []
   },
   "outputs": [],
   "source": [
    "device = torch.device('cuda' if torch.cuda.is_available() else 'cpu')\n",
    "new_model = AutoModelForSequenceClassification.from_pretrained('/kaggle/input/model2').to(device)"
   ]
  },
  {
   "cell_type": "code",
   "execution_count": 4,
   "id": "2ab19cdc",
   "metadata": {
    "execution": {
     "iopub.execute_input": "2023-12-08T10:25:50.126828Z",
     "iopub.status.busy": "2023-12-08T10:25:50.126396Z",
     "iopub.status.idle": "2023-12-08T10:25:50.157438Z",
     "shell.execute_reply": "2023-12-08T10:25:50.156548Z"
    },
    "id": "Wy-BafzEVChu",
    "papermill": {
     "duration": 0.039516,
     "end_time": "2023-12-08T10:25:50.159345",
     "exception": false,
     "start_time": "2023-12-08T10:25:50.119829",
     "status": "completed"
    },
    "tags": []
   },
   "outputs": [],
   "source": [
    "unlabelled_data = pd.read_csv('/kaggle/input/testdata/unlabelled_test_data.csv', index_col = 'id')"
   ]
  },
  {
   "cell_type": "code",
   "execution_count": 5,
   "id": "7f35dbf9",
   "metadata": {
    "execution": {
     "iopub.execute_input": "2023-12-08T10:25:50.171932Z",
     "iopub.status.busy": "2023-12-08T10:25:50.171614Z",
     "iopub.status.idle": "2023-12-08T10:25:51.508336Z",
     "shell.execute_reply": "2023-12-08T10:25:51.507392Z"
    },
    "id": "okhsKGKXVOSb",
    "papermill": {
     "duration": 1.345671,
     "end_time": "2023-12-08T10:25:51.510630",
     "exception": false,
     "start_time": "2023-12-08T10:25:50.164959",
     "status": "completed"
    },
    "tags": []
   },
   "outputs": [],
   "source": [
    "%%capture\n",
    "new_tokenizer = AutoTokenizer.from_pretrained(\"camembert-base\", do_lower_case=True)"
   ]
  },
  {
   "cell_type": "code",
   "execution_count": 6,
   "id": "0d22cb52",
   "metadata": {
    "execution": {
     "iopub.execute_input": "2023-12-08T10:25:51.523995Z",
     "iopub.status.busy": "2023-12-08T10:25:51.523070Z",
     "iopub.status.idle": "2023-12-08T10:25:51.527130Z",
     "shell.execute_reply": "2023-12-08T10:25:51.526440Z"
    },
    "id": "ks_K4XzaIP0X",
    "papermill": {
     "duration": 0.01241,
     "end_time": "2023-12-08T10:25:51.529015",
     "exception": false,
     "start_time": "2023-12-08T10:25:51.516605",
     "status": "completed"
    },
    "tags": []
   },
   "outputs": [],
   "source": [
    "## The code to remove the numbers. We didn't use it because it didn't improve the results. \n",
    "\n",
    "#import re\n",
    "#from typing import Dict\n",
    "#\n",
    "#def remove_numbers(text):\n",
    "#    # Use regular expression to remove numbers\n",
    "#    text_without_numbers = re.sub(r'\\d+', '', text)\n",
    "#    return text_without_numbers"
   ]
  },
  {
   "cell_type": "code",
   "execution_count": 7,
   "id": "eba9afcd",
   "metadata": {
    "execution": {
     "iopub.execute_input": "2023-12-08T10:25:51.541803Z",
     "iopub.status.busy": "2023-12-08T10:25:51.541121Z",
     "iopub.status.idle": "2023-12-08T10:25:51.545020Z",
     "shell.execute_reply": "2023-12-08T10:25:51.544237Z"
    },
    "id": "psTFrUB5IRFC",
    "papermill": {
     "duration": 0.01212,
     "end_time": "2023-12-08T10:25:51.546846",
     "exception": false,
     "start_time": "2023-12-08T10:25:51.534726",
     "status": "completed"
    },
    "tags": []
   },
   "outputs": [],
   "source": [
    "## The code to remove the proper names. We didn't use it because it didn't improve the results.\n",
    "\n",
    "#import spacy\n",
    "#\n",
    "## Load the spaCy French language model\n",
    "#nlp = spacy.load('fr_core_news_sm')\n",
    "#\n",
    "#def remove_proper_names(text):\n",
    "#    doc = nlp(text)\n",
    "#    # Remove entities (proper names)\n",
    "#    text_without_entities = ' '.join([token.text if not token.ent_type_ else '' for token in doc])\n",
    "#    return text_without_entities"
   ]
  },
  {
   "cell_type": "code",
   "execution_count": 8,
   "id": "9f23cbdb",
   "metadata": {
    "execution": {
     "iopub.execute_input": "2023-12-08T10:25:51.559077Z",
     "iopub.status.busy": "2023-12-08T10:25:51.558603Z",
     "iopub.status.idle": "2023-12-08T10:25:51.562335Z",
     "shell.execute_reply": "2023-12-08T10:25:51.561527Z"
    },
    "id": "xiL_8y7AITPH",
    "papermill": {
     "duration": 0.011795,
     "end_time": "2023-12-08T10:25:51.564321",
     "exception": false,
     "start_time": "2023-12-08T10:25:51.552526",
     "status": "completed"
    },
    "tags": []
   },
   "outputs": [],
   "source": [
    "## Processing of the data when we use the code to remove the numbers and the proper names. We didn't use it because it didn't improve the results.\n",
    "\n",
    "#def process_data(row) -> Dict:\n",
    "#    # Clean the text\n",
    "#    text = row['sentence']\n",
    "#    text = str(text)\n",
    "#    text = remove_numbers(text)\n",
    "#    text = remove_proper_names(text)\n",
    "#\n",
    "#    # Convert difficulty labels to integers\n",
    "#    row['sentence'] = text\n",
    "#\n",
    "#    return row"
   ]
  },
  {
   "cell_type": "code",
   "execution_count": 10,
   "id": "4b03eeb3",
   "metadata": {
    "execution": {
     "iopub.execute_input": "2023-12-08T10:25:51.593948Z",
     "iopub.status.busy": "2023-12-08T10:25:51.593505Z",
     "iopub.status.idle": "2023-12-08T10:25:51.597088Z",
     "shell.execute_reply": "2023-12-08T10:25:51.596304Z"
    },
    "id": "Y5-JQM4DojA_",
    "papermill": {
     "duration": 0.011843,
     "end_time": "2023-12-08T10:25:51.598977",
     "exception": false,
     "start_time": "2023-12-08T10:25:51.587134",
     "status": "completed"
    },
    "tags": []
   },
   "outputs": [],
   "source": [
    "## Processing of the data to clean the data with (numberts and proper names)\n",
    "\n",
    "#processed_unlabelled_data = unlabelled_data.apply(process_data, axis=1)"
   ]
  },
  {
   "cell_type": "code",
   "execution_count": 11,
   "id": "040dd049",
   "metadata": {
    "execution": {
     "iopub.execute_input": "2023-12-08T10:25:51.611193Z",
     "iopub.status.busy": "2023-12-08T10:25:51.610515Z",
     "iopub.status.idle": "2023-12-08T10:25:51.617695Z",
     "shell.execute_reply": "2023-12-08T10:25:51.616897Z"
    },
    "id": "2m_c7ZLLVRcc",
    "papermill": {
     "duration": 0.015084,
     "end_time": "2023-12-08T10:25:51.619494",
     "exception": false,
     "start_time": "2023-12-08T10:25:51.604410",
     "status": "completed"
    },
    "tags": []
   },
   "outputs": [],
   "source": [
    "def get_multiclass_predictions(texts):\n",
    "    encodings = new_tokenizer(texts.tolist(), return_tensors=\"pt\", padding=\"max_length\", truncation=True, max_length=512)\n",
    "    encodings = {k: v.to(new_model.device) for k, v in encodings.items()}\n",
    "\n",
    "    with torch.no_grad():\n",
    "        outputs = new_model(**encodings)\n",
    "\n",
    "    logits = outputs.logits\n",
    "\n",
    "    softmax = torch.nn.Softmax(dim=-1)  # Adjust the dimension to -1\n",
    "    probabilities = softmax(logits.squeeze().cpu())\n",
    "    probabilities = probabilities.detach().numpy()\n",
    "\n",
    "    labels = np.argmax(probabilities, axis=-1)\n",
    "\n",
    "    label_mapping = {0: 'A1', 1: 'A2', 2: 'B1', 3: 'B2', 4: 'C1', 5: 'C2'}\n",
    "\n",
    "    predicted_labels = [label_mapping[label.item()] for label in labels]\n",
    "\n",
    "    return predicted_labels"
   ]
  },
  {
   "cell_type": "code",
   "execution_count": 13,
   "id": "d545ad4c",
   "metadata": {
    "execution": {
     "iopub.execute_input": "2023-12-08T10:25:51.648667Z",
     "iopub.status.busy": "2023-12-08T10:25:51.648095Z",
     "iopub.status.idle": "2023-12-08T10:26:03.252473Z",
     "shell.execute_reply": "2023-12-08T10:26:03.251624Z"
    },
    "id": "B7nconcbuwCJ",
    "outputId": "b4d8721b-f996-46f0-f2e2-b1ba8b5cc166",
    "papermill": {
     "duration": 11.612862,
     "end_time": "2023-12-08T10:26:03.254901",
     "exception": false,
     "start_time": "2023-12-08T10:25:51.642039",
     "status": "completed"
    },
    "tags": []
   },
   "outputs": [],
   "source": [
    "#predicted_labels = get_multiclass_predictions(processed_unlabelled_data['sentence']) # use if data is processed\n",
    "predicted_labels = get_multiclass_predictions(unlabelled_data['sentence'])"
   ]
  },
  {
   "cell_type": "code",
   "execution_count": 14,
   "id": "3d41711b",
   "metadata": {
    "execution": {
     "iopub.execute_input": "2023-12-08T10:26:03.269057Z",
     "iopub.status.busy": "2023-12-08T10:26:03.268663Z",
     "iopub.status.idle": "2023-12-08T10:26:03.273735Z",
     "shell.execute_reply": "2023-12-08T10:26:03.272881Z"
    },
    "id": "Uv7sRixq3EC_",
    "papermill": {
     "duration": 0.013992,
     "end_time": "2023-12-08T10:26:03.275666",
     "exception": false,
     "start_time": "2023-12-08T10:26:03.261674",
     "status": "completed"
    },
    "tags": []
   },
   "outputs": [],
   "source": [
    "unlabelled_data['difficulty'] = predicted_labels"
   ]
  },
  {
   "cell_type": "code",
   "execution_count": 15,
   "id": "19eb183a",
   "metadata": {
    "execution": {
     "iopub.execute_input": "2023-12-08T10:26:03.287630Z",
     "iopub.status.busy": "2023-12-08T10:26:03.287356Z",
     "iopub.status.idle": "2023-12-08T10:26:03.293308Z",
     "shell.execute_reply": "2023-12-08T10:26:03.292530Z"
    },
    "id": "4Ubfv8ye3STh",
    "papermill": {
     "duration": 0.014023,
     "end_time": "2023-12-08T10:26:03.295091",
     "exception": false,
     "start_time": "2023-12-08T10:26:03.281068",
     "status": "completed"
    },
    "tags": []
   },
   "outputs": [],
   "source": [
    "predictions = unlabelled_data[['difficulty']]"
   ]
  },
  {
   "cell_type": "code",
   "execution_count": 16,
   "id": "6b5d5300",
   "metadata": {
    "execution": {
     "iopub.execute_input": "2023-12-08T10:26:03.307278Z",
     "iopub.status.busy": "2023-12-08T10:26:03.306720Z",
     "iopub.status.idle": "2023-12-08T10:26:03.318731Z",
     "shell.execute_reply": "2023-12-08T10:26:03.317936Z"
    },
    "id": "8ATyrN5_uyiO",
    "papermill": {
     "duration": 0.02004,
     "end_time": "2023-12-08T10:26:03.320604",
     "exception": false,
     "start_time": "2023-12-08T10:26:03.300564",
     "status": "completed"
    },
    "tags": []
   },
   "outputs": [
    {
     "data": {
      "text/html": [
       "<div>\n",
       "<style scoped>\n",
       "    .dataframe tbody tr th:only-of-type {\n",
       "        vertical-align: middle;\n",
       "    }\n",
       "\n",
       "    .dataframe tbody tr th {\n",
       "        vertical-align: top;\n",
       "    }\n",
       "\n",
       "    .dataframe thead th {\n",
       "        text-align: right;\n",
       "    }\n",
       "</style>\n",
       "<table border=\"1\" class=\"dataframe\">\n",
       "  <thead>\n",
       "    <tr style=\"text-align: right;\">\n",
       "      <th></th>\n",
       "      <th>difficulty</th>\n",
       "    </tr>\n",
       "    <tr>\n",
       "      <th>id</th>\n",
       "      <th></th>\n",
       "    </tr>\n",
       "  </thead>\n",
       "  <tbody>\n",
       "    <tr>\n",
       "      <th>0</th>\n",
       "      <td>C2</td>\n",
       "    </tr>\n",
       "    <tr>\n",
       "      <th>1</th>\n",
       "      <td>A2</td>\n",
       "    </tr>\n",
       "    <tr>\n",
       "      <th>2</th>\n",
       "      <td>B1</td>\n",
       "    </tr>\n",
       "    <tr>\n",
       "      <th>3</th>\n",
       "      <td>A2</td>\n",
       "    </tr>\n",
       "    <tr>\n",
       "      <th>4</th>\n",
       "      <td>C2</td>\n",
       "    </tr>\n",
       "  </tbody>\n",
       "</table>\n",
       "</div>"
      ],
      "text/plain": [
       "   difficulty\n",
       "id           \n",
       "0          C2\n",
       "1          A2\n",
       "2          B1\n",
       "3          A2\n",
       "4          C2"
      ]
     },
     "execution_count": 16,
     "metadata": {},
     "output_type": "execute_result"
    }
   ],
   "source": [
    "predictions.head()"
   ]
  },
  {
   "cell_type": "code",
   "execution_count": 17,
   "id": "dfdb1bc8",
   "metadata": {
    "execution": {
     "iopub.execute_input": "2023-12-08T10:26:03.333024Z",
     "iopub.status.busy": "2023-12-08T10:26:03.332755Z",
     "iopub.status.idle": "2023-12-08T10:26:03.341169Z",
     "shell.execute_reply": "2023-12-08T10:26:03.340537Z"
    },
    "id": "yueOEJ6Fw2CA",
    "outputId": "e298576d-c2a8-4895-abcb-cec46f8ca686",
    "papermill": {
     "duration": 0.016565,
     "end_time": "2023-12-08T10:26:03.342920",
     "exception": false,
     "start_time": "2023-12-08T10:26:03.326355",
     "status": "completed"
    },
    "tags": []
   },
   "outputs": [],
   "source": [
    "predictions.to_csv('submission.csv')"
   ]
  },
  {
   "cell_type": "code",
   "execution_count": 18,
   "id": "bb49a88d",
   "metadata": {
    "execution": {
     "iopub.execute_input": "2023-12-08T10:26:03.355061Z",
     "iopub.status.busy": "2023-12-08T10:26:03.354824Z",
     "iopub.status.idle": "2023-12-08T10:26:04.634291Z",
     "shell.execute_reply": "2023-12-08T10:26:04.633117Z"
    },
    "id": "y_HxoFGxwygE",
    "papermill": {
     "duration": 1.287978,
     "end_time": "2023-12-08T10:26:04.636494",
     "exception": false,
     "start_time": "2023-12-08T10:26:03.348516",
     "status": "completed"
    },
    "tags": []
   },
   "outputs": [
    {
     "name": "stderr",
     "output_type": "stream",
     "text": [
      "huggingface/tokenizers: The current process just got forked, after parallelism has already been used. Disabling parallelism to avoid deadlocks...\n",
      "To disable this warning, you can either:\n",
      "\t- Avoid using `tokenizers` before the fork if possible\n",
      "\t- Explicitly set the environment variable TOKENIZERS_PARALLELISM=(true | false)\n"
     ]
    },
    {
     "name": "stdout",
     "output_type": "stream",
     "text": [
      "Traceback (most recent call last):\r\n",
      "  File \"/opt/conda/bin/kaggle\", line 5, in <module>\r\n",
      "    from kaggle.cli import main\r\n",
      "  File \"/opt/conda/lib/python3.10/site-packages/kaggle/__init__.py\", line 23, in <module>\r\n",
      "    api.authenticate()\r\n",
      "  File \"/opt/conda/lib/python3.10/site-packages/kaggle/api/kaggle_api_extended.py\", line 403, in authenticate\r\n",
      "    raise IOError('Could not find {}. Make sure it\\'s located in'\r\n",
      "OSError: Could not find kaggle.json. Make sure it's located in /root/.kaggle. Or use the environment method.\r\n"
     ]
    }
   ],
   "source": [
    "! kaggle competitions submit -c detecting-french-texts-difficulty-level-2023 -f submission.csv -m \"Camembert lr 5e-5\""
   ]
  }
 ],
 "metadata": {
  "accelerator": "GPU",
  "colab": {
   "provenance": []
  },
  "kaggle": {
   "accelerator": "gpu",
   "dataSources": [
    {
     "datasetId": 4126389,
     "sourceId": 7147643,
     "sourceType": "datasetVersion"
    },
    {
     "datasetId": 4130817,
     "sourceId": 7153668,
     "sourceType": "datasetVersion"
    }
   ],
   "dockerImageVersionId": 30616,
   "isGpuEnabled": true,
   "isInternetEnabled": true,
   "language": "python",
   "sourceType": "notebook"
  },
  "kernelspec": {
   "display_name": "Python 3",
   "language": "python",
   "name": "python3"
  },
  "language_info": {
   "codemirror_mode": {
    "name": "ipython",
    "version": 3
   },
   "file_extension": ".py",
   "mimetype": "text/x-python",
   "name": "python",
   "nbconvert_exporter": "python",
   "pygments_lexer": "ipython3",
   "version": "3.10.12"
  },
  "papermill": {
   "default_parameters": {},
   "duration": 71.075755,
   "end_time": "2023-12-08T10:26:06.378725",
   "environment_variables": {},
   "exception": null,
   "input_path": "__notebook__.ipynb",
   "output_path": "__notebook__.ipynb",
   "parameters": {},
   "start_time": "2023-12-08T10:24:55.302970",
   "version": "2.4.0"
  },
  "widgets": {
   "application/vnd.jupyter.widget-state+json": {
    "state": {
     "01a349587b524c1da387b69492aecb24": {
      "model_module": "@jupyter-widgets/controls",
      "model_module_version": "1.5.0",
      "model_name": "FloatProgressModel",
      "state": {
       "_dom_classes": [],
       "_model_module": "@jupyter-widgets/controls",
       "_model_module_version": "1.5.0",
       "_model_name": "FloatProgressModel",
       "_view_count": null,
       "_view_module": "@jupyter-widgets/controls",
       "_view_module_version": "1.5.0",
       "_view_name": "ProgressView",
       "bar_style": "success",
       "description": "",
       "description_tooltip": null,
       "layout": "IPY_MODEL_3a013b88ed3047bfba102bf7b6e0f5c8",
       "max": 1395301,
       "min": 0,
       "orientation": "horizontal",
       "style": "IPY_MODEL_d34f0ce5ffd0455fbeaece14e8cc0f1e",
       "value": 1395301
      }
     },
     "01e2d49de85f4f708c22dd8a244afe77": {
      "model_module": "@jupyter-widgets/controls",
      "model_module_version": "1.5.0",
      "model_name": "DescriptionStyleModel",
      "state": {
       "_model_module": "@jupyter-widgets/controls",
       "_model_module_version": "1.5.0",
       "_model_name": "DescriptionStyleModel",
       "_view_count": null,
       "_view_module": "@jupyter-widgets/base",
       "_view_module_version": "1.2.0",
       "_view_name": "StyleView",
       "description_width": ""
      }
     },
     "06eb1fed017f4daaa2010b5bb16e1803": {
      "model_module": "@jupyter-widgets/controls",
      "model_module_version": "1.5.0",
      "model_name": "ProgressStyleModel",
      "state": {
       "_model_module": "@jupyter-widgets/controls",
       "_model_module_version": "1.5.0",
       "_model_name": "ProgressStyleModel",
       "_view_count": null,
       "_view_module": "@jupyter-widgets/base",
       "_view_module_version": "1.2.0",
       "_view_name": "StyleView",
       "bar_color": null,
       "description_width": ""
      }
     },
     "0b75dbd4f9bf42b882d1b38fb2b7062d": {
      "model_module": "@jupyter-widgets/base",
      "model_module_version": "1.2.0",
      "model_name": "LayoutModel",
      "state": {
       "_model_module": "@jupyter-widgets/base",
       "_model_module_version": "1.2.0",
       "_model_name": "LayoutModel",
       "_view_count": null,
       "_view_module": "@jupyter-widgets/base",
       "_view_module_version": "1.2.0",
       "_view_name": "LayoutView",
       "align_content": null,
       "align_items": null,
       "align_self": null,
       "border": null,
       "bottom": null,
       "display": null,
       "flex": null,
       "flex_flow": null,
       "grid_area": null,
       "grid_auto_columns": null,
       "grid_auto_flow": null,
       "grid_auto_rows": null,
       "grid_column": null,
       "grid_gap": null,
       "grid_row": null,
       "grid_template_areas": null,
       "grid_template_columns": null,
       "grid_template_rows": null,
       "height": null,
       "justify_content": null,
       "justify_items": null,
       "left": null,
       "margin": null,
       "max_height": null,
       "max_width": null,
       "min_height": null,
       "min_width": null,
       "object_fit": null,
       "object_position": null,
       "order": null,
       "overflow": null,
       "overflow_x": null,
       "overflow_y": null,
       "padding": null,
       "right": null,
       "top": null,
       "visibility": null,
       "width": null
      }
     },
     "0f830bdf32b6476496127c1485f21906": {
      "model_module": "@jupyter-widgets/controls",
      "model_module_version": "1.5.0",
      "model_name": "FloatProgressModel",
      "state": {
       "_dom_classes": [],
       "_model_module": "@jupyter-widgets/controls",
       "_model_module_version": "1.5.0",
       "_model_name": "FloatProgressModel",
       "_view_count": null,
       "_view_module": "@jupyter-widgets/controls",
       "_view_module_version": "1.5.0",
       "_view_name": "ProgressView",
       "bar_style": "success",
       "description": "",
       "description_tooltip": null,
       "layout": "IPY_MODEL_0b75dbd4f9bf42b882d1b38fb2b7062d",
       "max": 810912,
       "min": 0,
       "orientation": "horizontal",
       "style": "IPY_MODEL_06eb1fed017f4daaa2010b5bb16e1803",
       "value": 810912
      }
     },
     "2b67ad1e3c784d0cbb54075833615854": {
      "model_module": "@jupyter-widgets/base",
      "model_module_version": "1.2.0",
      "model_name": "LayoutModel",
      "state": {
       "_model_module": "@jupyter-widgets/base",
       "_model_module_version": "1.2.0",
       "_model_name": "LayoutModel",
       "_view_count": null,
       "_view_module": "@jupyter-widgets/base",
       "_view_module_version": "1.2.0",
       "_view_name": "LayoutView",
       "align_content": null,
       "align_items": null,
       "align_self": null,
       "border": null,
       "bottom": null,
       "display": null,
       "flex": null,
       "flex_flow": null,
       "grid_area": null,
       "grid_auto_columns": null,
       "grid_auto_flow": null,
       "grid_auto_rows": null,
       "grid_column": null,
       "grid_gap": null,
       "grid_row": null,
       "grid_template_areas": null,
       "grid_template_columns": null,
       "grid_template_rows": null,
       "height": null,
       "justify_content": null,
       "justify_items": null,
       "left": null,
       "margin": null,
       "max_height": null,
       "max_width": null,
       "min_height": null,
       "min_width": null,
       "object_fit": null,
       "object_position": null,
       "order": null,
       "overflow": null,
       "overflow_x": null,
       "overflow_y": null,
       "padding": null,
       "right": null,
       "top": null,
       "visibility": null,
       "width": null
      }
     },
     "2b81c9dfcd25473294a486555d1cd8ee": {
      "model_module": "@jupyter-widgets/controls",
      "model_module_version": "1.5.0",
      "model_name": "HTMLModel",
      "state": {
       "_dom_classes": [],
       "_model_module": "@jupyter-widgets/controls",
       "_model_module_version": "1.5.0",
       "_model_name": "HTMLModel",
       "_view_count": null,
       "_view_module": "@jupyter-widgets/controls",
       "_view_module_version": "1.5.0",
       "_view_name": "HTMLView",
       "description": "",
       "description_tooltip": null,
       "layout": "IPY_MODEL_e1a5e7f3021142e7b5d0b25e04156710",
       "placeholder": "​",
       "style": "IPY_MODEL_01e2d49de85f4f708c22dd8a244afe77",
       "value": "tokenizer.json: 100%"
      }
     },
     "33c66d7df784459c99eb57b20654c5a0": {
      "model_module": "@jupyter-widgets/controls",
      "model_module_version": "1.5.0",
      "model_name": "DescriptionStyleModel",
      "state": {
       "_model_module": "@jupyter-widgets/controls",
       "_model_module_version": "1.5.0",
       "_model_name": "DescriptionStyleModel",
       "_view_count": null,
       "_view_module": "@jupyter-widgets/base",
       "_view_module_version": "1.2.0",
       "_view_name": "StyleView",
       "description_width": ""
      }
     },
     "3a013b88ed3047bfba102bf7b6e0f5c8": {
      "model_module": "@jupyter-widgets/base",
      "model_module_version": "1.2.0",
      "model_name": "LayoutModel",
      "state": {
       "_model_module": "@jupyter-widgets/base",
       "_model_module_version": "1.2.0",
       "_model_name": "LayoutModel",
       "_view_count": null,
       "_view_module": "@jupyter-widgets/base",
       "_view_module_version": "1.2.0",
       "_view_name": "LayoutView",
       "align_content": null,
       "align_items": null,
       "align_self": null,
       "border": null,
       "bottom": null,
       "display": null,
       "flex": null,
       "flex_flow": null,
       "grid_area": null,
       "grid_auto_columns": null,
       "grid_auto_flow": null,
       "grid_auto_rows": null,
       "grid_column": null,
       "grid_gap": null,
       "grid_row": null,
       "grid_template_areas": null,
       "grid_template_columns": null,
       "grid_template_rows": null,
       "height": null,
       "justify_content": null,
       "justify_items": null,
       "left": null,
       "margin": null,
       "max_height": null,
       "max_width": null,
       "min_height": null,
       "min_width": null,
       "object_fit": null,
       "object_position": null,
       "order": null,
       "overflow": null,
       "overflow_x": null,
       "overflow_y": null,
       "padding": null,
       "right": null,
       "top": null,
       "visibility": null,
       "width": null
      }
     },
     "3e74f12731cf4476827528e04f192b9d": {
      "model_module": "@jupyter-widgets/base",
      "model_module_version": "1.2.0",
      "model_name": "LayoutModel",
      "state": {
       "_model_module": "@jupyter-widgets/base",
       "_model_module_version": "1.2.0",
       "_model_name": "LayoutModel",
       "_view_count": null,
       "_view_module": "@jupyter-widgets/base",
       "_view_module_version": "1.2.0",
       "_view_name": "LayoutView",
       "align_content": null,
       "align_items": null,
       "align_self": null,
       "border": null,
       "bottom": null,
       "display": null,
       "flex": null,
       "flex_flow": null,
       "grid_area": null,
       "grid_auto_columns": null,
       "grid_auto_flow": null,
       "grid_auto_rows": null,
       "grid_column": null,
       "grid_gap": null,
       "grid_row": null,
       "grid_template_areas": null,
       "grid_template_columns": null,
       "grid_template_rows": null,
       "height": null,
       "justify_content": null,
       "justify_items": null,
       "left": null,
       "margin": null,
       "max_height": null,
       "max_width": null,
       "min_height": null,
       "min_width": null,
       "object_fit": null,
       "object_position": null,
       "order": null,
       "overflow": null,
       "overflow_x": null,
       "overflow_y": null,
       "padding": null,
       "right": null,
       "top": null,
       "visibility": null,
       "width": null
      }
     },
     "44131dd67cde4039846424450113e806": {
      "model_module": "@jupyter-widgets/base",
      "model_module_version": "1.2.0",
      "model_name": "LayoutModel",
      "state": {
       "_model_module": "@jupyter-widgets/base",
       "_model_module_version": "1.2.0",
       "_model_name": "LayoutModel",
       "_view_count": null,
       "_view_module": "@jupyter-widgets/base",
       "_view_module_version": "1.2.0",
       "_view_name": "LayoutView",
       "align_content": null,
       "align_items": null,
       "align_self": null,
       "border": null,
       "bottom": null,
       "display": null,
       "flex": null,
       "flex_flow": null,
       "grid_area": null,
       "grid_auto_columns": null,
       "grid_auto_flow": null,
       "grid_auto_rows": null,
       "grid_column": null,
       "grid_gap": null,
       "grid_row": null,
       "grid_template_areas": null,
       "grid_template_columns": null,
       "grid_template_rows": null,
       "height": null,
       "justify_content": null,
       "justify_items": null,
       "left": null,
       "margin": null,
       "max_height": null,
       "max_width": null,
       "min_height": null,
       "min_width": null,
       "object_fit": null,
       "object_position": null,
       "order": null,
       "overflow": null,
       "overflow_x": null,
       "overflow_y": null,
       "padding": null,
       "right": null,
       "top": null,
       "visibility": null,
       "width": null
      }
     },
     "4e5ddac51c5344e5b79c186e7da8be23": {
      "model_module": "@jupyter-widgets/base",
      "model_module_version": "1.2.0",
      "model_name": "LayoutModel",
      "state": {
       "_model_module": "@jupyter-widgets/base",
       "_model_module_version": "1.2.0",
       "_model_name": "LayoutModel",
       "_view_count": null,
       "_view_module": "@jupyter-widgets/base",
       "_view_module_version": "1.2.0",
       "_view_name": "LayoutView",
       "align_content": null,
       "align_items": null,
       "align_self": null,
       "border": null,
       "bottom": null,
       "display": null,
       "flex": null,
       "flex_flow": null,
       "grid_area": null,
       "grid_auto_columns": null,
       "grid_auto_flow": null,
       "grid_auto_rows": null,
       "grid_column": null,
       "grid_gap": null,
       "grid_row": null,
       "grid_template_areas": null,
       "grid_template_columns": null,
       "grid_template_rows": null,
       "height": null,
       "justify_content": null,
       "justify_items": null,
       "left": null,
       "margin": null,
       "max_height": null,
       "max_width": null,
       "min_height": null,
       "min_width": null,
       "object_fit": null,
       "object_position": null,
       "order": null,
       "overflow": null,
       "overflow_x": null,
       "overflow_y": null,
       "padding": null,
       "right": null,
       "top": null,
       "visibility": null,
       "width": null
      }
     },
     "5357aafe684a4e77bb28d9fb90fc263b": {
      "model_module": "@jupyter-widgets/controls",
      "model_module_version": "1.5.0",
      "model_name": "HBoxModel",
      "state": {
       "_dom_classes": [],
       "_model_module": "@jupyter-widgets/controls",
       "_model_module_version": "1.5.0",
       "_model_name": "HBoxModel",
       "_view_count": null,
       "_view_module": "@jupyter-widgets/controls",
       "_view_module_version": "1.5.0",
       "_view_name": "HBoxView",
       "box_style": "",
       "children": [
        "IPY_MODEL_7221fdfa15154fc89d723867c38fd83b",
        "IPY_MODEL_f9f48ea44960431e9fe57f4e506db553",
        "IPY_MODEL_b34ac3bcdea5403291796ae69da1cbf9"
       ],
       "layout": "IPY_MODEL_4e5ddac51c5344e5b79c186e7da8be23"
      }
     },
     "554a670309794459a25e39def99e062b": {
      "model_module": "@jupyter-widgets/controls",
      "model_module_version": "1.5.0",
      "model_name": "DescriptionStyleModel",
      "state": {
       "_model_module": "@jupyter-widgets/controls",
       "_model_module_version": "1.5.0",
       "_model_name": "DescriptionStyleModel",
       "_view_count": null,
       "_view_module": "@jupyter-widgets/base",
       "_view_module_version": "1.2.0",
       "_view_name": "StyleView",
       "description_width": ""
      }
     },
     "640e0754484f4413825c2f3387199f76": {
      "model_module": "@jupyter-widgets/controls",
      "model_module_version": "1.5.0",
      "model_name": "HBoxModel",
      "state": {
       "_dom_classes": [],
       "_model_module": "@jupyter-widgets/controls",
       "_model_module_version": "1.5.0",
       "_model_name": "HBoxModel",
       "_view_count": null,
       "_view_module": "@jupyter-widgets/controls",
       "_view_module_version": "1.5.0",
       "_view_name": "HBoxView",
       "box_style": "",
       "children": [
        "IPY_MODEL_2b81c9dfcd25473294a486555d1cd8ee",
        "IPY_MODEL_01a349587b524c1da387b69492aecb24",
        "IPY_MODEL_973c4e81e84844ad81ee8caca1672974"
       ],
       "layout": "IPY_MODEL_fd4b2ea90ff249128b9fdef70484e2fa"
      }
     },
     "67e927378bc04b9e970856818142efbf": {
      "model_module": "@jupyter-widgets/controls",
      "model_module_version": "1.5.0",
      "model_name": "DescriptionStyleModel",
      "state": {
       "_model_module": "@jupyter-widgets/controls",
       "_model_module_version": "1.5.0",
       "_model_name": "DescriptionStyleModel",
       "_view_count": null,
       "_view_module": "@jupyter-widgets/base",
       "_view_module_version": "1.2.0",
       "_view_name": "StyleView",
       "description_width": ""
      }
     },
     "6c4c85de971442398ea9293dc564f9fc": {
      "model_module": "@jupyter-widgets/base",
      "model_module_version": "1.2.0",
      "model_name": "LayoutModel",
      "state": {
       "_model_module": "@jupyter-widgets/base",
       "_model_module_version": "1.2.0",
       "_model_name": "LayoutModel",
       "_view_count": null,
       "_view_module": "@jupyter-widgets/base",
       "_view_module_version": "1.2.0",
       "_view_name": "LayoutView",
       "align_content": null,
       "align_items": null,
       "align_self": null,
       "border": null,
       "bottom": null,
       "display": null,
       "flex": null,
       "flex_flow": null,
       "grid_area": null,
       "grid_auto_columns": null,
       "grid_auto_flow": null,
       "grid_auto_rows": null,
       "grid_column": null,
       "grid_gap": null,
       "grid_row": null,
       "grid_template_areas": null,
       "grid_template_columns": null,
       "grid_template_rows": null,
       "height": null,
       "justify_content": null,
       "justify_items": null,
       "left": null,
       "margin": null,
       "max_height": null,
       "max_width": null,
       "min_height": null,
       "min_width": null,
       "object_fit": null,
       "object_position": null,
       "order": null,
       "overflow": null,
       "overflow_x": null,
       "overflow_y": null,
       "padding": null,
       "right": null,
       "top": null,
       "visibility": null,
       "width": null
      }
     },
     "7221fdfa15154fc89d723867c38fd83b": {
      "model_module": "@jupyter-widgets/controls",
      "model_module_version": "1.5.0",
      "model_name": "HTMLModel",
      "state": {
       "_dom_classes": [],
       "_model_module": "@jupyter-widgets/controls",
       "_model_module_version": "1.5.0",
       "_model_name": "HTMLModel",
       "_view_count": null,
       "_view_module": "@jupyter-widgets/controls",
       "_view_module_version": "1.5.0",
       "_view_name": "HTMLView",
       "description": "",
       "description_tooltip": null,
       "layout": "IPY_MODEL_2b67ad1e3c784d0cbb54075833615854",
       "placeholder": "​",
       "style": "IPY_MODEL_8e8a793dc363431a9fa809fd38364281",
       "value": "config.json: 100%"
      }
     },
     "8d03acade90246d8b6f474e9719f8f69": {
      "model_module": "@jupyter-widgets/base",
      "model_module_version": "1.2.0",
      "model_name": "LayoutModel",
      "state": {
       "_model_module": "@jupyter-widgets/base",
       "_model_module_version": "1.2.0",
       "_model_name": "LayoutModel",
       "_view_count": null,
       "_view_module": "@jupyter-widgets/base",
       "_view_module_version": "1.2.0",
       "_view_name": "LayoutView",
       "align_content": null,
       "align_items": null,
       "align_self": null,
       "border": null,
       "bottom": null,
       "display": null,
       "flex": null,
       "flex_flow": null,
       "grid_area": null,
       "grid_auto_columns": null,
       "grid_auto_flow": null,
       "grid_auto_rows": null,
       "grid_column": null,
       "grid_gap": null,
       "grid_row": null,
       "grid_template_areas": null,
       "grid_template_columns": null,
       "grid_template_rows": null,
       "height": null,
       "justify_content": null,
       "justify_items": null,
       "left": null,
       "margin": null,
       "max_height": null,
       "max_width": null,
       "min_height": null,
       "min_width": null,
       "object_fit": null,
       "object_position": null,
       "order": null,
       "overflow": null,
       "overflow_x": null,
       "overflow_y": null,
       "padding": null,
       "right": null,
       "top": null,
       "visibility": null,
       "width": null
      }
     },
     "8e8a793dc363431a9fa809fd38364281": {
      "model_module": "@jupyter-widgets/controls",
      "model_module_version": "1.5.0",
      "model_name": "DescriptionStyleModel",
      "state": {
       "_model_module": "@jupyter-widgets/controls",
       "_model_module_version": "1.5.0",
       "_model_name": "DescriptionStyleModel",
       "_view_count": null,
       "_view_module": "@jupyter-widgets/base",
       "_view_module_version": "1.2.0",
       "_view_name": "StyleView",
       "description_width": ""
      }
     },
     "973c4e81e84844ad81ee8caca1672974": {
      "model_module": "@jupyter-widgets/controls",
      "model_module_version": "1.5.0",
      "model_name": "HTMLModel",
      "state": {
       "_dom_classes": [],
       "_model_module": "@jupyter-widgets/controls",
       "_model_module_version": "1.5.0",
       "_model_name": "HTMLModel",
       "_view_count": null,
       "_view_module": "@jupyter-widgets/controls",
       "_view_module_version": "1.5.0",
       "_view_name": "HTMLView",
       "description": "",
       "description_tooltip": null,
       "layout": "IPY_MODEL_8d03acade90246d8b6f474e9719f8f69",
       "placeholder": "​",
       "style": "IPY_MODEL_e30a9def584141a6a56eb0e1cad56ce3",
       "value": " 1.40M/1.40M [00:00&lt;00:00, 21.2MB/s]"
      }
     },
     "a828ae8041134814a7fe62403cff8381": {
      "model_module": "@jupyter-widgets/controls",
      "model_module_version": "1.5.0",
      "model_name": "ProgressStyleModel",
      "state": {
       "_model_module": "@jupyter-widgets/controls",
       "_model_module_version": "1.5.0",
       "_model_name": "ProgressStyleModel",
       "_view_count": null,
       "_view_module": "@jupyter-widgets/base",
       "_view_module_version": "1.2.0",
       "_view_name": "StyleView",
       "bar_color": null,
       "description_width": ""
      }
     },
     "b34ac3bcdea5403291796ae69da1cbf9": {
      "model_module": "@jupyter-widgets/controls",
      "model_module_version": "1.5.0",
      "model_name": "HTMLModel",
      "state": {
       "_dom_classes": [],
       "_model_module": "@jupyter-widgets/controls",
       "_model_module_version": "1.5.0",
       "_model_name": "HTMLModel",
       "_view_count": null,
       "_view_module": "@jupyter-widgets/controls",
       "_view_module_version": "1.5.0",
       "_view_name": "HTMLView",
       "description": "",
       "description_tooltip": null,
       "layout": "IPY_MODEL_b70cab8d87a6477ca525c0dfbbe21b94",
       "placeholder": "​",
       "style": "IPY_MODEL_33c66d7df784459c99eb57b20654c5a0",
       "value": " 508/508 [00:00&lt;00:00, 54.0kB/s]"
      }
     },
     "b4f563c9d1e043bbbf30899b1958c1e9": {
      "model_module": "@jupyter-widgets/base",
      "model_module_version": "1.2.0",
      "model_name": "LayoutModel",
      "state": {
       "_model_module": "@jupyter-widgets/base",
       "_model_module_version": "1.2.0",
       "_model_name": "LayoutModel",
       "_view_count": null,
       "_view_module": "@jupyter-widgets/base",
       "_view_module_version": "1.2.0",
       "_view_name": "LayoutView",
       "align_content": null,
       "align_items": null,
       "align_self": null,
       "border": null,
       "bottom": null,
       "display": null,
       "flex": null,
       "flex_flow": null,
       "grid_area": null,
       "grid_auto_columns": null,
       "grid_auto_flow": null,
       "grid_auto_rows": null,
       "grid_column": null,
       "grid_gap": null,
       "grid_row": null,
       "grid_template_areas": null,
       "grid_template_columns": null,
       "grid_template_rows": null,
       "height": null,
       "justify_content": null,
       "justify_items": null,
       "left": null,
       "margin": null,
       "max_height": null,
       "max_width": null,
       "min_height": null,
       "min_width": null,
       "object_fit": null,
       "object_position": null,
       "order": null,
       "overflow": null,
       "overflow_x": null,
       "overflow_y": null,
       "padding": null,
       "right": null,
       "top": null,
       "visibility": null,
       "width": null
      }
     },
     "b70cab8d87a6477ca525c0dfbbe21b94": {
      "model_module": "@jupyter-widgets/base",
      "model_module_version": "1.2.0",
      "model_name": "LayoutModel",
      "state": {
       "_model_module": "@jupyter-widgets/base",
       "_model_module_version": "1.2.0",
       "_model_name": "LayoutModel",
       "_view_count": null,
       "_view_module": "@jupyter-widgets/base",
       "_view_module_version": "1.2.0",
       "_view_name": "LayoutView",
       "align_content": null,
       "align_items": null,
       "align_self": null,
       "border": null,
       "bottom": null,
       "display": null,
       "flex": null,
       "flex_flow": null,
       "grid_area": null,
       "grid_auto_columns": null,
       "grid_auto_flow": null,
       "grid_auto_rows": null,
       "grid_column": null,
       "grid_gap": null,
       "grid_row": null,
       "grid_template_areas": null,
       "grid_template_columns": null,
       "grid_template_rows": null,
       "height": null,
       "justify_content": null,
       "justify_items": null,
       "left": null,
       "margin": null,
       "max_height": null,
       "max_width": null,
       "min_height": null,
       "min_width": null,
       "object_fit": null,
       "object_position": null,
       "order": null,
       "overflow": null,
       "overflow_x": null,
       "overflow_y": null,
       "padding": null,
       "right": null,
       "top": null,
       "visibility": null,
       "width": null
      }
     },
     "be8108394d524f618c4dcff65ba794cd": {
      "model_module": "@jupyter-widgets/controls",
      "model_module_version": "1.5.0",
      "model_name": "HBoxModel",
      "state": {
       "_dom_classes": [],
       "_model_module": "@jupyter-widgets/controls",
       "_model_module_version": "1.5.0",
       "_model_name": "HBoxModel",
       "_view_count": null,
       "_view_module": "@jupyter-widgets/controls",
       "_view_module_version": "1.5.0",
       "_view_name": "HBoxView",
       "box_style": "",
       "children": [
        "IPY_MODEL_f69ed6ba708e4cda8d58e5b11c51439f",
        "IPY_MODEL_0f830bdf32b6476496127c1485f21906",
        "IPY_MODEL_c7bae9524aef4f4a93d41a7d8a691ee5"
       ],
       "layout": "IPY_MODEL_3e74f12731cf4476827528e04f192b9d"
      }
     },
     "c7bae9524aef4f4a93d41a7d8a691ee5": {
      "model_module": "@jupyter-widgets/controls",
      "model_module_version": "1.5.0",
      "model_name": "HTMLModel",
      "state": {
       "_dom_classes": [],
       "_model_module": "@jupyter-widgets/controls",
       "_model_module_version": "1.5.0",
       "_model_name": "HTMLModel",
       "_view_count": null,
       "_view_module": "@jupyter-widgets/controls",
       "_view_module_version": "1.5.0",
       "_view_name": "HTMLView",
       "description": "",
       "description_tooltip": null,
       "layout": "IPY_MODEL_b4f563c9d1e043bbbf30899b1958c1e9",
       "placeholder": "​",
       "style": "IPY_MODEL_67e927378bc04b9e970856818142efbf",
       "value": " 811k/811k [00:00&lt;00:00, 3.25MB/s]"
      }
     },
     "d34f0ce5ffd0455fbeaece14e8cc0f1e": {
      "model_module": "@jupyter-widgets/controls",
      "model_module_version": "1.5.0",
      "model_name": "ProgressStyleModel",
      "state": {
       "_model_module": "@jupyter-widgets/controls",
       "_model_module_version": "1.5.0",
       "_model_name": "ProgressStyleModel",
       "_view_count": null,
       "_view_module": "@jupyter-widgets/base",
       "_view_module_version": "1.2.0",
       "_view_name": "StyleView",
       "bar_color": null,
       "description_width": ""
      }
     },
     "e1a5e7f3021142e7b5d0b25e04156710": {
      "model_module": "@jupyter-widgets/base",
      "model_module_version": "1.2.0",
      "model_name": "LayoutModel",
      "state": {
       "_model_module": "@jupyter-widgets/base",
       "_model_module_version": "1.2.0",
       "_model_name": "LayoutModel",
       "_view_count": null,
       "_view_module": "@jupyter-widgets/base",
       "_view_module_version": "1.2.0",
       "_view_name": "LayoutView",
       "align_content": null,
       "align_items": null,
       "align_self": null,
       "border": null,
       "bottom": null,
       "display": null,
       "flex": null,
       "flex_flow": null,
       "grid_area": null,
       "grid_auto_columns": null,
       "grid_auto_flow": null,
       "grid_auto_rows": null,
       "grid_column": null,
       "grid_gap": null,
       "grid_row": null,
       "grid_template_areas": null,
       "grid_template_columns": null,
       "grid_template_rows": null,
       "height": null,
       "justify_content": null,
       "justify_items": null,
       "left": null,
       "margin": null,
       "max_height": null,
       "max_width": null,
       "min_height": null,
       "min_width": null,
       "object_fit": null,
       "object_position": null,
       "order": null,
       "overflow": null,
       "overflow_x": null,
       "overflow_y": null,
       "padding": null,
       "right": null,
       "top": null,
       "visibility": null,
       "width": null
      }
     },
     "e30a9def584141a6a56eb0e1cad56ce3": {
      "model_module": "@jupyter-widgets/controls",
      "model_module_version": "1.5.0",
      "model_name": "DescriptionStyleModel",
      "state": {
       "_model_module": "@jupyter-widgets/controls",
       "_model_module_version": "1.5.0",
       "_model_name": "DescriptionStyleModel",
       "_view_count": null,
       "_view_module": "@jupyter-widgets/base",
       "_view_module_version": "1.2.0",
       "_view_name": "StyleView",
       "description_width": ""
      }
     },
     "f69ed6ba708e4cda8d58e5b11c51439f": {
      "model_module": "@jupyter-widgets/controls",
      "model_module_version": "1.5.0",
      "model_name": "HTMLModel",
      "state": {
       "_dom_classes": [],
       "_model_module": "@jupyter-widgets/controls",
       "_model_module_version": "1.5.0",
       "_model_name": "HTMLModel",
       "_view_count": null,
       "_view_module": "@jupyter-widgets/controls",
       "_view_module_version": "1.5.0",
       "_view_name": "HTMLView",
       "description": "",
       "description_tooltip": null,
       "layout": "IPY_MODEL_6c4c85de971442398ea9293dc564f9fc",
       "placeholder": "​",
       "style": "IPY_MODEL_554a670309794459a25e39def99e062b",
       "value": "sentencepiece.bpe.model: 100%"
      }
     },
     "f9f48ea44960431e9fe57f4e506db553": {
      "model_module": "@jupyter-widgets/controls",
      "model_module_version": "1.5.0",
      "model_name": "FloatProgressModel",
      "state": {
       "_dom_classes": [],
       "_model_module": "@jupyter-widgets/controls",
       "_model_module_version": "1.5.0",
       "_model_name": "FloatProgressModel",
       "_view_count": null,
       "_view_module": "@jupyter-widgets/controls",
       "_view_module_version": "1.5.0",
       "_view_name": "ProgressView",
       "bar_style": "success",
       "description": "",
       "description_tooltip": null,
       "layout": "IPY_MODEL_44131dd67cde4039846424450113e806",
       "max": 508,
       "min": 0,
       "orientation": "horizontal",
       "style": "IPY_MODEL_a828ae8041134814a7fe62403cff8381",
       "value": 508
      }
     },
     "fd4b2ea90ff249128b9fdef70484e2fa": {
      "model_module": "@jupyter-widgets/base",
      "model_module_version": "1.2.0",
      "model_name": "LayoutModel",
      "state": {
       "_model_module": "@jupyter-widgets/base",
       "_model_module_version": "1.2.0",
       "_model_name": "LayoutModel",
       "_view_count": null,
       "_view_module": "@jupyter-widgets/base",
       "_view_module_version": "1.2.0",
       "_view_name": "LayoutView",
       "align_content": null,
       "align_items": null,
       "align_self": null,
       "border": null,
       "bottom": null,
       "display": null,
       "flex": null,
       "flex_flow": null,
       "grid_area": null,
       "grid_auto_columns": null,
       "grid_auto_flow": null,
       "grid_auto_rows": null,
       "grid_column": null,
       "grid_gap": null,
       "grid_row": null,
       "grid_template_areas": null,
       "grid_template_columns": null,
       "grid_template_rows": null,
       "height": null,
       "justify_content": null,
       "justify_items": null,
       "left": null,
       "margin": null,
       "max_height": null,
       "max_width": null,
       "min_height": null,
       "min_width": null,
       "object_fit": null,
       "object_position": null,
       "order": null,
       "overflow": null,
       "overflow_x": null,
       "overflow_y": null,
       "padding": null,
       "right": null,
       "top": null,
       "visibility": null,
       "width": null
      }
     }
    },
    "version_major": 2,
    "version_minor": 0
   }
  }
 },
 "nbformat": 4,
 "nbformat_minor": 5
}
